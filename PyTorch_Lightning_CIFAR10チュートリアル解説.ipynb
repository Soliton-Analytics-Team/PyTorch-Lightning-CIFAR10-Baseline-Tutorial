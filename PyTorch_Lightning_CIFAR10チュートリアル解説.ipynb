{
  "nbformat": 4,
  "nbformat_minor": 0,
  "metadata": {
    "colab": {
      "name": "PyTorch Lightning CIFAR10チュートリアル解説",
      "provenance": [],
      "collapsed_sections": []
    },
    "kernelspec": {
      "name": "python3",
      "display_name": "Python 3"
    },
    "language_info": {
      "name": "python"
    },
    "accelerator": "GPU",
    "widgets": {
      "application/vnd.jupyter.widget-state+json": {
        "a3b35f8bbc06422096108996500b6d90": {
          "model_module": "@jupyter-widgets/controls",
          "model_name": "HBoxModel",
          "state": {
            "_view_name": "HBoxView",
            "_dom_classes": [],
            "_model_name": "HBoxModel",
            "_view_module": "@jupyter-widgets/controls",
            "_model_module_version": "1.5.0",
            "_view_count": null,
            "_view_module_version": "1.5.0",
            "box_style": "",
            "layout": "IPY_MODEL_c305413decdb403d9420b0dbc61440ac",
            "_model_module": "@jupyter-widgets/controls",
            "children": [
              "IPY_MODEL_e1a3af97ecfd45919ebaa94eb21545d9",
              "IPY_MODEL_39a28b0f59a94f53b0e9141a44851433"
            ]
          }
        },
        "c305413decdb403d9420b0dbc61440ac": {
          "model_module": "@jupyter-widgets/base",
          "model_name": "LayoutModel",
          "state": {
            "_view_name": "LayoutView",
            "grid_template_rows": null,
            "right": null,
            "justify_content": null,
            "_view_module": "@jupyter-widgets/base",
            "overflow": null,
            "_model_module_version": "1.2.0",
            "_view_count": null,
            "flex_flow": "row wrap",
            "width": "100%",
            "min_width": null,
            "border": null,
            "align_items": null,
            "bottom": null,
            "_model_module": "@jupyter-widgets/base",
            "top": null,
            "grid_column": null,
            "overflow_y": null,
            "overflow_x": null,
            "grid_auto_flow": null,
            "grid_area": null,
            "grid_template_columns": null,
            "flex": null,
            "_model_name": "LayoutModel",
            "justify_items": null,
            "grid_row": null,
            "max_height": null,
            "align_content": null,
            "visibility": null,
            "align_self": null,
            "height": null,
            "min_height": null,
            "padding": null,
            "grid_auto_rows": null,
            "grid_gap": null,
            "max_width": null,
            "order": null,
            "_view_module_version": "1.2.0",
            "grid_template_areas": null,
            "object_position": null,
            "object_fit": null,
            "grid_auto_columns": null,
            "margin": null,
            "display": "inline-flex",
            "left": null
          }
        },
        "e1a3af97ecfd45919ebaa94eb21545d9": {
          "model_module": "@jupyter-widgets/controls",
          "model_name": "FloatProgressModel",
          "state": {
            "_view_name": "ProgressView",
            "style": "IPY_MODEL_a89e6a4506a940fdbf8f2582eeaf6e64",
            "_dom_classes": [],
            "description": "Testing: 100%",
            "_model_name": "FloatProgressModel",
            "bar_style": "success",
            "max": 1,
            "_view_module": "@jupyter-widgets/controls",
            "_model_module_version": "1.5.0",
            "value": 1,
            "_view_count": null,
            "_view_module_version": "1.5.0",
            "orientation": "horizontal",
            "min": 0,
            "description_tooltip": null,
            "_model_module": "@jupyter-widgets/controls",
            "layout": "IPY_MODEL_ef24f42566a14981bd3b16a5e2c30366"
          }
        },
        "39a28b0f59a94f53b0e9141a44851433": {
          "model_module": "@jupyter-widgets/controls",
          "model_name": "HTMLModel",
          "state": {
            "_view_name": "HTMLView",
            "style": "IPY_MODEL_841d243969494daba67134d302898198",
            "_dom_classes": [],
            "description": "",
            "_model_name": "HTMLModel",
            "placeholder": "​",
            "_view_module": "@jupyter-widgets/controls",
            "_model_module_version": "1.5.0",
            "value": " 40/40 [00:03&lt;00:00, 12.74it/s]",
            "_view_count": null,
            "_view_module_version": "1.5.0",
            "description_tooltip": null,
            "_model_module": "@jupyter-widgets/controls",
            "layout": "IPY_MODEL_ac614224b62e43289d9d9df2b14b4c64"
          }
        },
        "a89e6a4506a940fdbf8f2582eeaf6e64": {
          "model_module": "@jupyter-widgets/controls",
          "model_name": "ProgressStyleModel",
          "state": {
            "_view_name": "StyleView",
            "_model_name": "ProgressStyleModel",
            "description_width": "initial",
            "_view_module": "@jupyter-widgets/base",
            "_model_module_version": "1.5.0",
            "_view_count": null,
            "_view_module_version": "1.2.0",
            "bar_color": null,
            "_model_module": "@jupyter-widgets/controls"
          }
        },
        "ef24f42566a14981bd3b16a5e2c30366": {
          "model_module": "@jupyter-widgets/base",
          "model_name": "LayoutModel",
          "state": {
            "_view_name": "LayoutView",
            "grid_template_rows": null,
            "right": null,
            "justify_content": null,
            "_view_module": "@jupyter-widgets/base",
            "overflow": null,
            "_model_module_version": "1.2.0",
            "_view_count": null,
            "flex_flow": null,
            "width": null,
            "min_width": null,
            "border": null,
            "align_items": null,
            "bottom": null,
            "_model_module": "@jupyter-widgets/base",
            "top": null,
            "grid_column": null,
            "overflow_y": null,
            "overflow_x": null,
            "grid_auto_flow": null,
            "grid_area": null,
            "grid_template_columns": null,
            "flex": "2",
            "_model_name": "LayoutModel",
            "justify_items": null,
            "grid_row": null,
            "max_height": null,
            "align_content": null,
            "visibility": null,
            "align_self": null,
            "height": null,
            "min_height": null,
            "padding": null,
            "grid_auto_rows": null,
            "grid_gap": null,
            "max_width": null,
            "order": null,
            "_view_module_version": "1.2.0",
            "grid_template_areas": null,
            "object_position": null,
            "object_fit": null,
            "grid_auto_columns": null,
            "margin": null,
            "display": null,
            "left": null
          }
        },
        "841d243969494daba67134d302898198": {
          "model_module": "@jupyter-widgets/controls",
          "model_name": "DescriptionStyleModel",
          "state": {
            "_view_name": "StyleView",
            "_model_name": "DescriptionStyleModel",
            "description_width": "",
            "_view_module": "@jupyter-widgets/base",
            "_model_module_version": "1.5.0",
            "_view_count": null,
            "_view_module_version": "1.2.0",
            "_model_module": "@jupyter-widgets/controls"
          }
        },
        "ac614224b62e43289d9d9df2b14b4c64": {
          "model_module": "@jupyter-widgets/base",
          "model_name": "LayoutModel",
          "state": {
            "_view_name": "LayoutView",
            "grid_template_rows": null,
            "right": null,
            "justify_content": null,
            "_view_module": "@jupyter-widgets/base",
            "overflow": null,
            "_model_module_version": "1.2.0",
            "_view_count": null,
            "flex_flow": null,
            "width": null,
            "min_width": null,
            "border": null,
            "align_items": null,
            "bottom": null,
            "_model_module": "@jupyter-widgets/base",
            "top": null,
            "grid_column": null,
            "overflow_y": null,
            "overflow_x": null,
            "grid_auto_flow": null,
            "grid_area": null,
            "grid_template_columns": null,
            "flex": null,
            "_model_name": "LayoutModel",
            "justify_items": null,
            "grid_row": null,
            "max_height": null,
            "align_content": null,
            "visibility": null,
            "align_self": null,
            "height": null,
            "min_height": null,
            "padding": null,
            "grid_auto_rows": null,
            "grid_gap": null,
            "max_width": null,
            "order": null,
            "_view_module_version": "1.2.0",
            "grid_template_areas": null,
            "object_position": null,
            "object_fit": null,
            "grid_auto_columns": null,
            "margin": null,
            "display": null,
            "left": null
          }
        },
        "7218afa7a4284bc697b5e53f4d49edfe": {
          "model_module": "@jupyter-widgets/controls",
          "model_name": "HBoxModel",
          "state": {
            "_view_name": "HBoxView",
            "_dom_classes": [],
            "_model_name": "HBoxModel",
            "_view_module": "@jupyter-widgets/controls",
            "_model_module_version": "1.5.0",
            "_view_count": null,
            "_view_module_version": "1.5.0",
            "box_style": "",
            "layout": "IPY_MODEL_365f0df6a99f41e8b419aeb70e936f98",
            "_model_module": "@jupyter-widgets/controls",
            "children": [
              "IPY_MODEL_ebe6a309ee4f4f71b54681eb705570d0",
              "IPY_MODEL_a9e667c7aff8496080c5cb92181f69b8"
            ]
          }
        },
        "365f0df6a99f41e8b419aeb70e936f98": {
          "model_module": "@jupyter-widgets/base",
          "model_name": "LayoutModel",
          "state": {
            "_view_name": "LayoutView",
            "grid_template_rows": null,
            "right": null,
            "justify_content": null,
            "_view_module": "@jupyter-widgets/base",
            "overflow": null,
            "_model_module_version": "1.2.0",
            "_view_count": null,
            "flex_flow": "row wrap",
            "width": "100%",
            "min_width": null,
            "border": null,
            "align_items": null,
            "bottom": null,
            "_model_module": "@jupyter-widgets/base",
            "top": null,
            "grid_column": null,
            "overflow_y": null,
            "overflow_x": null,
            "grid_auto_flow": null,
            "grid_area": null,
            "grid_template_columns": null,
            "flex": null,
            "_model_name": "LayoutModel",
            "justify_items": null,
            "grid_row": null,
            "max_height": null,
            "align_content": null,
            "visibility": null,
            "align_self": null,
            "height": null,
            "min_height": null,
            "padding": null,
            "grid_auto_rows": null,
            "grid_gap": null,
            "max_width": null,
            "order": null,
            "_view_module_version": "1.2.0",
            "grid_template_areas": null,
            "object_position": null,
            "object_fit": null,
            "grid_auto_columns": null,
            "margin": null,
            "display": "inline-flex",
            "left": null
          }
        },
        "ebe6a309ee4f4f71b54681eb705570d0": {
          "model_module": "@jupyter-widgets/controls",
          "model_name": "FloatProgressModel",
          "state": {
            "_view_name": "ProgressView",
            "style": "IPY_MODEL_3342f37156b44ec0b7f11b678a86ec57",
            "_dom_classes": [],
            "description": "Testing: 100%",
            "_model_name": "FloatProgressModel",
            "bar_style": "success",
            "max": 1,
            "_view_module": "@jupyter-widgets/controls",
            "_model_module_version": "1.5.0",
            "value": 1,
            "_view_count": null,
            "_view_module_version": "1.5.0",
            "orientation": "horizontal",
            "min": 0,
            "description_tooltip": null,
            "_model_module": "@jupyter-widgets/controls",
            "layout": "IPY_MODEL_30f7fe8541bf4c9a9e65457e979f71bf"
          }
        },
        "a9e667c7aff8496080c5cb92181f69b8": {
          "model_module": "@jupyter-widgets/controls",
          "model_name": "HTMLModel",
          "state": {
            "_view_name": "HTMLView",
            "style": "IPY_MODEL_b9691322d1034e09a18710cb8cc4a4cf",
            "_dom_classes": [],
            "description": "",
            "_model_name": "HTMLModel",
            "placeholder": "​",
            "_view_module": "@jupyter-widgets/controls",
            "_model_module_version": "1.5.0",
            "value": " 40/40 [00:02&lt;00:00, 15.64it/s]",
            "_view_count": null,
            "_view_module_version": "1.5.0",
            "description_tooltip": null,
            "_model_module": "@jupyter-widgets/controls",
            "layout": "IPY_MODEL_9b65ad6a2c174f619e804145145f535c"
          }
        },
        "3342f37156b44ec0b7f11b678a86ec57": {
          "model_module": "@jupyter-widgets/controls",
          "model_name": "ProgressStyleModel",
          "state": {
            "_view_name": "StyleView",
            "_model_name": "ProgressStyleModel",
            "description_width": "initial",
            "_view_module": "@jupyter-widgets/base",
            "_model_module_version": "1.5.0",
            "_view_count": null,
            "_view_module_version": "1.2.0",
            "bar_color": null,
            "_model_module": "@jupyter-widgets/controls"
          }
        },
        "30f7fe8541bf4c9a9e65457e979f71bf": {
          "model_module": "@jupyter-widgets/base",
          "model_name": "LayoutModel",
          "state": {
            "_view_name": "LayoutView",
            "grid_template_rows": null,
            "right": null,
            "justify_content": null,
            "_view_module": "@jupyter-widgets/base",
            "overflow": null,
            "_model_module_version": "1.2.0",
            "_view_count": null,
            "flex_flow": null,
            "width": null,
            "min_width": null,
            "border": null,
            "align_items": null,
            "bottom": null,
            "_model_module": "@jupyter-widgets/base",
            "top": null,
            "grid_column": null,
            "overflow_y": null,
            "overflow_x": null,
            "grid_auto_flow": null,
            "grid_area": null,
            "grid_template_columns": null,
            "flex": "2",
            "_model_name": "LayoutModel",
            "justify_items": null,
            "grid_row": null,
            "max_height": null,
            "align_content": null,
            "visibility": null,
            "align_self": null,
            "height": null,
            "min_height": null,
            "padding": null,
            "grid_auto_rows": null,
            "grid_gap": null,
            "max_width": null,
            "order": null,
            "_view_module_version": "1.2.0",
            "grid_template_areas": null,
            "object_position": null,
            "object_fit": null,
            "grid_auto_columns": null,
            "margin": null,
            "display": null,
            "left": null
          }
        },
        "b9691322d1034e09a18710cb8cc4a4cf": {
          "model_module": "@jupyter-widgets/controls",
          "model_name": "DescriptionStyleModel",
          "state": {
            "_view_name": "StyleView",
            "_model_name": "DescriptionStyleModel",
            "description_width": "",
            "_view_module": "@jupyter-widgets/base",
            "_model_module_version": "1.5.0",
            "_view_count": null,
            "_view_module_version": "1.2.0",
            "_model_module": "@jupyter-widgets/controls"
          }
        },
        "9b65ad6a2c174f619e804145145f535c": {
          "model_module": "@jupyter-widgets/base",
          "model_name": "LayoutModel",
          "state": {
            "_view_name": "LayoutView",
            "grid_template_rows": null,
            "right": null,
            "justify_content": null,
            "_view_module": "@jupyter-widgets/base",
            "overflow": null,
            "_model_module_version": "1.2.0",
            "_view_count": null,
            "flex_flow": null,
            "width": null,
            "min_width": null,
            "border": null,
            "align_items": null,
            "bottom": null,
            "_model_module": "@jupyter-widgets/base",
            "top": null,
            "grid_column": null,
            "overflow_y": null,
            "overflow_x": null,
            "grid_auto_flow": null,
            "grid_area": null,
            "grid_template_columns": null,
            "flex": null,
            "_model_name": "LayoutModel",
            "justify_items": null,
            "grid_row": null,
            "max_height": null,
            "align_content": null,
            "visibility": null,
            "align_self": null,
            "height": null,
            "min_height": null,
            "padding": null,
            "grid_auto_rows": null,
            "grid_gap": null,
            "max_width": null,
            "order": null,
            "_view_module_version": "1.2.0",
            "grid_template_areas": null,
            "object_position": null,
            "object_fit": null,
            "grid_auto_columns": null,
            "margin": null,
            "display": null,
            "left": null
          }
        }
      }
    }
  },
  "cells": [
    {
      "cell_type": "markdown",
      "metadata": {
        "id": "_sP1a6b_9Kez"
      },
      "source": [
        "# PyTorch Lightning CIFAR10 Baseline Tutorial を解説\n",
        "\n",
        "PyTorch LightningはPyTorchの色々と細かい点を隠蔽して、オレオレ実装になりがちな学習ルーチンを標準化してくれます。そのため、コードが比較的読みやすくなるという利点があります。今回、[ここ](https://github.com/PyTorchLightning/lightning-tutorials/blob/aeae8085b48339e9bd9ab61d81cc0dc8b0d48f9c/.notebooks/starters/cifar10-baseline.ipynb)にPyTorch LightningをCIFAR10に適用するnotebookを見つけましたので、これを元に解説します。実際にGoogle Colabで実行できるようにしてありますので、是非試してください。"
      ]
    },
    {
      "cell_type": "markdown",
      "metadata": {
        "id": "MyslQrw_CGCz"
      },
      "source": [
        "##**Setup**\n",
        "\n",
        "まずは、結果を保存するためにgoogle driveをマウントし、ディレクトリを作ってそこに移動します。"
      ]
    },
    {
      "cell_type": "code",
      "metadata": {
        "id": "Z1LzU4uO41HU"
      },
      "source": [
        "from google.colab import drive\n",
        "drive.mount('/content/drive')\n",
        "!mkdir -p /content/drive/MyDrive/CIFAR10\n",
        "%cd /content/drive/MyDrive/CIFAR10"
      ],
      "execution_count": null,
      "outputs": []
    },
    {
      "cell_type": "markdown",
      "metadata": {
        "id": "0AYO-5mlDBdh"
      },
      "source": [
        "次にPyTorch Lightningをインストールします。pipで簡単です。[lightning-bolts](https://github.com/PyTorchLightning/lightning-bolts/)は、いろいろ便利な小道具なりモデルなりを集めたモジュールです。今回はCIFAR10のDataModuleを使うためにインストールしています。"
      ]
    },
    {
      "cell_type": "code",
      "metadata": {
        "id": "ZadcXIv9481y"
      },
      "source": [
        "! pip install pytorch-lightning lightning-bolts -qU"
      ],
      "execution_count": null,
      "outputs": []
    },
    {
      "cell_type": "code",
      "metadata": {
        "id": "GOaRFpoP4_kt"
      },
      "source": [
        "import torch\n",
        "import torch.nn as nn\n",
        "import torch.nn.functional as F\n",
        "from torch.optim.lr_scheduler import OneCycleLR\n",
        "from torch.optim.swa_utils import AveragedModel, update_bn\n",
        "import torchvision\n",
        "\n",
        "import pytorch_lightning as pl\n",
        "from pytorch_lightning.callbacks import LearningRateMonitor\n",
        "from pytorch_lightning.metrics.functional import accuracy\n",
        "from pl_bolts.datamodules import CIFAR10DataModule\n",
        "from pl_bolts.transforms.dataset_normalizations import cifar10_normalization"
      ],
      "execution_count": null,
      "outputs": []
    },
    {
      "cell_type": "markdown",
      "metadata": {
        "id": "mi7gB5IGFMbH"
      },
      "source": [
        "pytorch_lightningには諸々の乱数シードを一発で設定するメソッドがあるので、それを使用します。これで、学習用と評価用のデータの切り分けなどは毎回同じにできます。ただ、GPUの実行タイミングは制御できないので、学習結果についてはばらつきがあります。"
      ]
    },
    {
      "cell_type": "code",
      "metadata": {
        "id": "YCWavyW25Cfv"
      },
      "source": [
        "pl.seed_everything(7)"
      ],
      "execution_count": null,
      "outputs": []
    },
    {
      "cell_type": "markdown",
      "metadata": {
        "id": "96jXQRqUTEpC"
      },
      "source": [
        "##**CIFAR10 Data Module**"
      ]
    },
    {
      "cell_type": "markdown",
      "metadata": {
        "id": "Ysc2wN58Ummx"
      },
      "source": [
        "バッチサイズを設定します。元のチュートリアルのバッチサイズは32でしたが、256でも大丈夫そうなので、256にしてみました。もししょぼいGPUを割り当てられたりして、メモリアロケーションエラーになるようでしたら、この数字を小さくしてみてください。"
      ]
    },
    {
      "cell_type": "code",
      "metadata": {
        "id": "LyPYEQTrUhB6"
      },
      "source": [
        "batch_size = 256"
      ],
      "execution_count": null,
      "outputs": []
    },
    {
      "cell_type": "markdown",
      "metadata": {
        "id": "TlfZFriLVGH3"
      },
      "source": [
        "入力画像に対する画像変換を定義します。学習用にはオーグメンテーションを設定していますが、評価用にはテンソル変換と標準化のみ設定しています。"
      ]
    },
    {
      "cell_type": "code",
      "metadata": {
        "id": "EAHWUj_t5EvM"
      },
      "source": [
        "train_transforms = torchvision.transforms.Compose([\n",
        "    torchvision.transforms.RandomCrop(32, padding=4),\n",
        "    torchvision.transforms.RandomHorizontalFlip(),\n",
        "    torchvision.transforms.ToTensor(),\n",
        "    cifar10_normalization(),\n",
        "])\n",
        "\n",
        "test_transforms = torchvision.transforms.Compose([\n",
        "    torchvision.transforms.ToTensor(),\n",
        "    cifar10_normalization(),\n",
        "])\n",
        "\n"
      ],
      "execution_count": null,
      "outputs": []
    },
    {
      "cell_type": "markdown",
      "metadata": {
        "id": "xZjzL_NIUUVz"
      },
      "source": [
        "boltsに用意されているCIFAR10DataModuleを利用してデータモジュールを作成します。"
      ]
    },
    {
      "cell_type": "code",
      "metadata": {
        "id": "wBSWxF8tUaOx"
      },
      "source": [
        "cifar10_dm = CIFAR10DataModule(\n",
        "    batch_size=batch_size,\n",
        "    train_transforms=train_transforms,\n",
        "    test_transforms=test_transforms,\n",
        "    val_transforms=test_transforms,\n",
        "    num_workers=2\n",
        ")"
      ],
      "execution_count": null,
      "outputs": []
    },
    {
      "cell_type": "markdown",
      "metadata": {
        "id": "S3zFzp05hWgG"
      },
      "source": [
        "実際、独自データを学習させる現場では、このデータモジュールを定義するのが最もオリジナルな部分であることが多いのですが、ここではboltsを利用して端折っています。データモジュールの作成に関しては別記事に譲りたいと思います。"
      ]
    },
    {
      "cell_type": "markdown",
      "metadata": {
        "id": "RoPLnW5AVuvB"
      },
      "source": [
        "##**Resnet**\n",
        "\n",
        "次に、torchvisionに用意されているresnet18を利用してモデルを作成する関数を定義します。\n",
        "\n"
      ]
    },
    {
      "cell_type": "code",
      "metadata": {
        "id": "ng9u7wXn5IFT"
      },
      "source": [
        "def create_model():\n",
        "    model = torchvision.models.resnet18(pretrained=True)\n",
        "    model.fc.out_features = 10\n",
        "    model.conv1 = nn.Conv2d(3, 64, kernel_size=(3, 3), stride=(1, 1), padding=(1, 1), bias=False)\n",
        "    model.maxpool = nn.Identity()\n",
        "    return model"
      ],
      "execution_count": null,
      "outputs": []
    },
    {
      "cell_type": "markdown",
      "metadata": {
        "id": "weZcFKnxwPcd"
      },
      "source": [
        "実は、元のチュートリアルは\n",
        "```\n",
        "model = torchvision.models.resnet18(pretrained=False, num_classes=10)\n",
        "```\n",
        "となっていて学習済み重みを使っていません。これを学習済み重みを使うようにしたいと思い、\n",
        "```\n",
        "model = torchvision.models.resnet18(pretrained=True, num_classes=10)\n",
        "```\n",
        "とすると、構造が違うというエラーがでてしまいます。torchvisionのResnetはImageNetによる事前学習なので、出力のクラス数は1000です。このクラス数を変更するのがnum_classes引数なのですが、これを変えると学習済みの重みをロードできない仕様のようです。\n",
        "\n",
        "そこで、まずはnum_classesを指定せずにpretrained=Trueで学習済み重みをロードしてから出力クラス数を変更するようにしました。\n",
        "```\n",
        "model = torchvision.models.resnet18(pretrained=True)\n",
        "model.fc.out_features = 10\n",
        "```\n",
        "ここで登場するmodel.fc.out_featuresはどこから現れたのかと思われるかもしれませんが、これはmodelをprintすると表示される構造の最後のところから見つけました。\n",
        "```\n",
        "ResNet(\n",
        "    ...\n",
        "    (fc): Linear(in_features=512, out_features=1000, bias=True)\n",
        ")\n",
        "```\n",
        "\n",
        "次にmodel.conv1とmodel.maxpoolです。これは元のチュートリアルにもあります。\n",
        "```\n",
        "model.conv1 = nn.Conv2d(3, 64, kernel_size=(3, 3), stride=(1, 1), padding=(1, 1), bias=False)\n",
        "model.maxpool = nn.Identity()\n",
        "```\n",
        "これらはmodelの構造の最初のところにあるものです。元々は以下のようになっています。\n",
        "```\n",
        "ResNet(\n",
        "  (conv1): Conv2d(3, 64, kernel_size=(7, 7), stride=(2, 2), padding=(3, 3), bias=False)\n",
        "  (bn1): BatchNorm2d(64, eps=1e-05, momentum=0.1, affine=True, track_running_stats=True)\n",
        "  (relu): ReLU(inplace=True)\n",
        "  (maxpool): MaxPool2d(kernel_size=3, stride=2, padding=1, dilation=1, ceil_mode=False)\n",
        "  ...\n",
        "```\n",
        "これはImageNetの画像サイズ(224x224)に対応したものです。しかし、CIFAR10の画像サイズは(32x32)です。元のままではkernel_sizeもstrideも大雑把すぎます。そこでより細かくピクセルの情報を見るようにconv1を付け替えているのです。またmodel.maxpoolもこの時点で情報を集約しないようにIdentity()を設定して無効化しています。\n",
        "\n",
        "このように、出来合いのモデルを使う場合、効果を発揮するためには入力の条件に合わせて細かい調整が必要です。ただ、モデルの構造を表示させてみれば意外とわかりやすいので、独自の調整を施して試してみてください。"
      ]
    },
    {
      "cell_type": "markdown",
      "metadata": {
        "id": "ej3zcZuJi7xE"
      },
      "source": [
        "##**Lightning Module**"
      ]
    },
    {
      "cell_type": "markdown",
      "metadata": {
        "id": "OTml2MB7pnDE"
      },
      "source": [
        "LightningModuleはほぼテンプレートです。損失関数にF.nll_lossを使っていますが、お好みのものに取り替えても大丈夫でしょう。また最適化関数もSGDとOneCycleLRを使っています。この辺りも標準化とは離れて独自性が現れてしまいますね。ただ、損失値のbackward()を呼んだり、modelのeval()を呼んだりなどのpytorch由来の細かい注意をしなくて良いのは大変助かります。"
      ]
    },
    {
      "cell_type": "code",
      "metadata": {
        "id": "_M5nCvOn5QT8"
      },
      "source": [
        "class LitResnet(pl.LightningModule):\n",
        "    def __init__(self, lr=0.05):\n",
        "        super().__init__()\n",
        "        self.save_hyperparameters()\n",
        "        self.model = create_model()\n",
        "\n",
        "    def forward(self, x):\n",
        "        out = self.model(x)\n",
        "        return F.log_softmax(out, dim=1)\n",
        "\n",
        "    def training_step(self, batch, batch_idx):\n",
        "        x, y = batch\n",
        "        logits = F.log_softmax(self.model(x), dim=1)\n",
        "        loss = F.nll_loss(logits, y)\n",
        "        self.log('train_loss', loss)\n",
        "        return loss\n",
        "\n",
        "    def evaluate(self, batch, stage=None):\n",
        "        x, y = batch\n",
        "        logits = self(x)\n",
        "        loss = F.nll_loss(logits, y)\n",
        "        preds = torch.argmax(logits, dim=1)\n",
        "        acc = accuracy(preds, y)\n",
        "\n",
        "        if stage:\n",
        "            self.log(f'{stage}_loss', loss, prog_bar=True)\n",
        "            self.log(f'{stage}_acc', acc, prog_bar=True)\n",
        "\n",
        "    def validation_step(self, batch, batch_idx):\n",
        "        self.evaluate(batch, 'val')\n",
        "\n",
        "    def test_step(self, batch, batch_idx):\n",
        "        self.evaluate(batch, 'test')\n",
        "\n",
        "    def configure_optimizers(self):\n",
        "        optimizer = torch.optim.SGD(self.parameters(), lr=self.hparams.lr, momentum=0.9, weight_decay=5e-4)\n",
        "        steps_per_epoch = 45000 // batch_size\n",
        "        scheduler_dict = {\n",
        "            'scheduler': OneCycleLR(optimizer, 0.1, epochs=self.trainer.max_epochs, steps_per_epoch=steps_per_epoch),\n",
        "            'interval': 'step',\n",
        "        }\n",
        "        return {'optimizer': optimizer, 'lr_scheduler': scheduler_dict}"
      ],
      "execution_count": null,
      "outputs": []
    },
    {
      "cell_type": "code",
      "metadata": {
        "id": "X8c4cg8v5icQ"
      },
      "source": [
        "model = LitResnet(lr=0.05)\n",
        "\n",
        "trainer = pl.Trainer(\n",
        "    progress_bar_refresh_rate=1,\n",
        "    max_epochs=50,\n",
        "    gpus=1,\n",
        "    logger=pl.loggers.TensorBoardLogger('lightning_logs/', name='resnet'),\n",
        "    callbacks=[LearningRateMonitor(logging_interval='step')],\n",
        ")"
      ],
      "execution_count": null,
      "outputs": []
    },
    {
      "cell_type": "code",
      "metadata": {
        "id": "8KMCBklJ-mW9"
      },
      "source": [
        "trainer.fit(model, cifar10_dm)\n",
        "trainer.save_checkpoint(\"resnet18.ckpt\")"
      ],
      "execution_count": null,
      "outputs": []
    },
    {
      "cell_type": "code",
      "metadata": {
        "id": "IOOcU6bs52yU",
        "colab": {
          "base_uri": "https://localhost:8080/",
          "height": 168,
          "referenced_widgets": [
            "a3b35f8bbc06422096108996500b6d90",
            "c305413decdb403d9420b0dbc61440ac",
            "e1a3af97ecfd45919ebaa94eb21545d9",
            "39a28b0f59a94f53b0e9141a44851433",
            "a89e6a4506a940fdbf8f2582eeaf6e64",
            "ef24f42566a14981bd3b16a5e2c30366",
            "841d243969494daba67134d302898198",
            "ac614224b62e43289d9d9df2b14b4c64"
          ]
        },
        "outputId": "943add4f-0a1d-406b-deda-c1b6c1b48881"
      },
      "source": [
        "trainer.test(model, datamodule=cifar10_dm)"
      ],
      "execution_count": null,
      "outputs": [
        {
          "output_type": "stream",
          "text": [
            "LOCAL_RANK: 0 - CUDA_VISIBLE_DEVICES: [0]\n"
          ],
          "name": "stderr"
        },
        {
          "output_type": "display_data",
          "data": {
            "application/vnd.jupyter.widget-view+json": {
              "model_id": "a3b35f8bbc06422096108996500b6d90",
              "version_minor": 0,
              "version_major": 2
            },
            "text/plain": [
              "HBox(children=(FloatProgress(value=1.0, bar_style='info', description='Testing', layout=Layout(flex='2'), max=…"
            ]
          },
          "metadata": {
            "tags": []
          }
        },
        {
          "output_type": "stream",
          "text": [
            "\n",
            "--------------------------------------------------------------------------------\n",
            "DATALOADER:0 TEST RESULTS\n",
            "{'test_acc': 0.9458000063896179, 'test_loss': 0.216917023062706}\n",
            "--------------------------------------------------------------------------------\n"
          ],
          "name": "stdout"
        },
        {
          "output_type": "execute_result",
          "data": {
            "text/plain": [
              "[{'test_acc': 0.9458000063896179, 'test_loss': 0.216917023062706}]"
            ]
          },
          "metadata": {
            "tags": []
          },
          "execution_count": 13
        }
      ]
    },
    {
      "cell_type": "markdown",
      "metadata": {
        "id": "wPDIMXtvuHpP"
      },
      "source": [
        "元々のチュートリアルにも40-50エポックで93-94%と書いてありますので、いい感じで再現されているようです。"
      ]
    },
    {
      "cell_type": "markdown",
      "metadata": {
        "id": "QeCr9xrpkD3v"
      },
      "source": [
        "##**Bounus: Use [Stochastic Weight Averaging](https://arxiv.org/abs/1803.05407) to get a boost on performance**"
      ]
    },
    {
      "cell_type": "markdown",
      "metadata": {
        "id": "VnYH2B0_ustO"
      },
      "source": [
        "SWAは簡単に使えて精度もあがるということなので、使ってみます。以下のように単純にラップするだけで使えます。"
      ]
    },
    {
      "cell_type": "code",
      "metadata": {
        "id": "2EFZoryRfoJD"
      },
      "source": [
        "class SWAResnet(LitResnet):\n",
        "    def __init__(self, trained_model, lr=0.01):\n",
        "        super().__init__()\n",
        "\n",
        "        self.save_hyperparameters('lr')\n",
        "        self.model = trained_model\n",
        "        self.swa_model = AveragedModel(self.model)\n",
        "\n",
        "    def forward(self, x):\n",
        "        out = self.swa_model(x)\n",
        "        return F.log_softmax(out, dim=1)\n",
        "\n",
        "    def training_epoch_end(self, training_step_outputs):\n",
        "        self.swa_model.update_parameters(self.model)\n",
        "\n",
        "    def validation_step(self, batch, batch_idx, stage=None):\n",
        "        x, y = batch\n",
        "        logits = F.log_softmax(self.model(x), dim=1)\n",
        "        loss = F.nll_loss(logits, y)\n",
        "        preds = torch.argmax(logits, dim=1)\n",
        "        acc = accuracy(preds, y)\n",
        "\n",
        "        self.log(f'val_loss', loss, prog_bar=True)\n",
        "        self.log(f'val_acc', acc, prog_bar=True)\n",
        "\n",
        "    def configure_optimizers(self):\n",
        "        optimizer = torch.optim.SGD(self.model.parameters(), lr=self.hparams.lr, momentum=0.9, weight_decay=5e-4)\n",
        "        return optimizer\n",
        "\n",
        "    def on_train_end(self):\n",
        "        update_bn(self.datamodule.train_dataloader(), self.swa_model, device=self.device)"
      ],
      "execution_count": null,
      "outputs": []
    },
    {
      "cell_type": "code",
      "metadata": {
        "id": "Ivdlp_vcgRMU"
      },
      "source": [
        "swa_model = SWAResnet(model.model, lr=0.01)\n",
        "swa_model.datamodule = cifar10_dm\n",
        "\n",
        "swa_trainer = pl.Trainer(\n",
        "    progress_bar_refresh_rate=1,\n",
        "    max_epochs=20,\n",
        "    gpus=1,\n",
        "    logger=pl.loggers.TensorBoardLogger('lightning_logs/', name='swa_resnet'),\n",
        ")\n"
      ],
      "execution_count": null,
      "outputs": []
    },
    {
      "cell_type": "code",
      "metadata": {
        "id": "vn1qRvfqrrOa"
      },
      "source": [
        "swa_trainer.fit(swa_model, cifar10_dm)\n",
        "swa_trainer.save_checkpoint(\"swa_resnet18.ckpt\")"
      ],
      "execution_count": null,
      "outputs": []
    },
    {
      "cell_type": "code",
      "metadata": {
        "colab": {
          "base_uri": "https://localhost:8080/",
          "height": 168,
          "referenced_widgets": [
            "7218afa7a4284bc697b5e53f4d49edfe",
            "365f0df6a99f41e8b419aeb70e936f98",
            "ebe6a309ee4f4f71b54681eb705570d0",
            "a9e667c7aff8496080c5cb92181f69b8",
            "3342f37156b44ec0b7f11b678a86ec57",
            "30f7fe8541bf4c9a9e65457e979f71bf",
            "b9691322d1034e09a18710cb8cc4a4cf",
            "9b65ad6a2c174f619e804145145f535c"
          ]
        },
        "id": "1cSlpoMBkhAz",
        "outputId": "c94c12c4-f954-4f8d-9d2c-b2306972188d"
      },
      "source": [
        "swa_trainer.test(model, datamodule=cifar10_dm)"
      ],
      "execution_count": null,
      "outputs": [
        {
          "output_type": "stream",
          "text": [
            "LOCAL_RANK: 0 - CUDA_VISIBLE_DEVICES: [0]\n"
          ],
          "name": "stderr"
        },
        {
          "output_type": "display_data",
          "data": {
            "application/vnd.jupyter.widget-view+json": {
              "model_id": "7218afa7a4284bc697b5e53f4d49edfe",
              "version_minor": 0,
              "version_major": 2
            },
            "text/plain": [
              "HBox(children=(FloatProgress(value=1.0, bar_style='info', description='Testing', layout=Layout(flex='2'), max=…"
            ]
          },
          "metadata": {
            "tags": []
          }
        },
        {
          "output_type": "stream",
          "text": [
            "\n",
            "--------------------------------------------------------------------------------\n",
            "DATALOADER:0 TEST RESULTS\n",
            "{'test_acc': 0.9506000280380249, 'test_loss': 0.20038478076457977}\n",
            "--------------------------------------------------------------------------------\n"
          ],
          "name": "stdout"
        },
        {
          "output_type": "execute_result",
          "data": {
            "text/plain": [
              "[{'test_acc': 0.9506000280380249, 'test_loss': 0.20038478076457977}]"
            ]
          },
          "metadata": {
            "tags": []
          },
          "execution_count": 23
        }
      ]
    },
    {
      "cell_type": "markdown",
      "metadata": {
        "id": "iUseZzKvxUb0"
      },
      "source": [
        "確かにちょっとだけ精度が向上していますが、誤差の範囲ではという気もしますね。"
      ]
    },
    {
      "cell_type": "markdown",
      "metadata": {
        "id": "v-AOc7gZxhx8"
      },
      "source": [
        "以下を実行するとtensorboardが表示されますので、学習経過などを観察してみてください。"
      ]
    },
    {
      "cell_type": "code",
      "metadata": {
        "id": "k3tMN6MqkFzR"
      },
      "source": [
        "%reload_ext tensorboard\n",
        "%tensorboard --logdir lightning_logs/"
      ],
      "execution_count": null,
      "outputs": []
    },
    {
      "cell_type": "markdown",
      "metadata": {
        "id": "3loSNglokwER"
      },
      "source": [
        "Enjoy!"
      ]
    }
  ]
}
